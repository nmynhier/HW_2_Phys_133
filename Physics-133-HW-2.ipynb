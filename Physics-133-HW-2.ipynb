{
 "cells": [
  {
   "cell_type": "markdown",
   "metadata": {},
   "source": [
    "# Question 2"
   ]
  },
  {
   "cell_type": "markdown",
   "metadata": {},
   "source": [
    "## Part A"
   ]
  },
  {
   "cell_type": "markdown",
   "metadata": {},
   "source": [
    "### Import Packages"
   ]
  },
  {
   "cell_type": "code",
   "execution_count": 1,
   "metadata": {},
   "outputs": [],
   "source": [
    "import numpy as np\n",
    "import matplotlib.pyplot as plt"
   ]
  },
  {
   "cell_type": "markdown",
   "metadata": {},
   "source": [
    "### Find the Mean of 10 numbers within parameters"
   ]
  },
  {
   "cell_type": "code",
   "execution_count": 2,
   "metadata": {},
   "outputs": [
    {
     "name": "stdout",
     "output_type": "stream",
     "text": [
      "Result = 0.124666972812\n"
     ]
    }
   ],
   "source": [
    "y = np.random.uniform(-.5, .5, 10)\n",
    "y_avg = np.average(y)\n",
    "#print(y)\n",
    "print(\"Result =\", y_avg)"
   ]
  },
  {
   "cell_type": "markdown",
   "metadata": {},
   "source": [
    "## Part B"
   ]
  },
  {
   "cell_type": "markdown",
   "metadata": {},
   "source": [
    "### Calculate the Mean and Variance of 10 results"
   ]
  },
  {
   "cell_type": "code",
   "execution_count": 3,
   "metadata": {},
   "outputs": [],
   "source": [
    "xrange = range(0,10)\n",
    "\n",
    "l=[]\n",
    "\n",
    "for i in xrange:\n",
    "    \n",
    "    i += 1\n",
    "     \n",
    "    i = np.random.uniform(-.5, .5, 10)\n",
    "        \n",
    "    j = np.average(i)\n",
    "    \n",
    "    l.append(j)\n",
    "    \n",
    "    #print(j)\n",
    "    #print(i)\n",
    "\n",
    "#print(l)"
   ]
  },
  {
   "cell_type": "code",
   "execution_count": 4,
   "metadata": {},
   "outputs": [
    {
     "name": "stdout",
     "output_type": "stream",
     "text": [
      "Over 10 iterations\n",
      "The Mean = 0.0561855747891\n",
      "The Variance = 0.00598447416816\n"
     ]
    }
   ],
   "source": [
    "Final_Mean_Avg = np.average(l)\n",
    "Final_Var_Avg = np.var(l)\n",
    "\n",
    "\n",
    "print(\"Over 10 iterations\")\n",
    "print(\"The Mean =\", Final_Mean_Avg)\n",
    "print(\"The Variance =\", Final_Var_Avg)"
   ]
  },
  {
   "cell_type": "markdown",
   "metadata": {},
   "source": [
    "### Discussion\n",
    "\n",
    "The Difference of the mean from 0 in this exercise was a very small value. This Mean value makes sense as it was resultant of two seperate averages on Data that was symmetric around zero."
   ]
  },
  {
   "cell_type": "markdown",
   "metadata": {},
   "source": [
    "## Part C"
   ]
  },
  {
   "cell_type": "markdown",
   "metadata": {},
   "source": [
    "### Recalculate the Mean and Variance of 100 results"
   ]
  },
  {
   "cell_type": "code",
   "execution_count": 84,
   "metadata": {},
   "outputs": [],
   "source": [
    "xrange = range(0,100)\n",
    "\n",
    "l=[]\n",
    "\n",
    "for i in xrange:\n",
    "    \n",
    "    i += 1\n",
    "     \n",
    "    i = np.random.uniform(-.5, .5, 10)\n",
    "        \n",
    "    j = np.average(i)\n",
    "    \n",
    "    l.append(j)\n",
    "    \n",
    "    #print(j)\n",
    "    #print(i)\n",
    "\n",
    "#print(l)"
   ]
  },
  {
   "cell_type": "code",
   "execution_count": 6,
   "metadata": {},
   "outputs": [
    {
     "name": "stdout",
     "output_type": "stream",
     "text": [
      "Over 100 iterations\n",
      "The Mean = 0.00701574793035\n",
      "The Variance = 0.00814209211245\n"
     ]
    }
   ],
   "source": [
    "Final_Mean_Avg = np.average(l)\n",
    "Final_Var_Avg = np.var(l)\n",
    "\n",
    "print(\"Over 100 iterations\")\n",
    "print(\"The Mean =\", Final_Mean_Avg)\n",
    "print(\"The Variance =\", Final_Var_Avg)"
   ]
  },
  {
   "cell_type": "markdown",
   "metadata": {},
   "source": [
    "### Discussion\n",
    "\n",
    "My expectation with this exercise was to see the Mean and Variance approach their true values. This is demonstrated as the Mean approaches zero its theoretical true value. This makes sense as the points are symmetric around zero. We can also see the variance getting more accurate because when I run the program for a 100 iterations reccurently, the final calculation varies less than with the 10 iteration program.  "
   ]
  },
  {
   "cell_type": "markdown",
   "metadata": {},
   "source": [
    "## Part D"
   ]
  },
  {
   "cell_type": "markdown",
   "metadata": {},
   "source": [
    "### Make a histogram of the Results"
   ]
  },
  {
   "cell_type": "code",
   "execution_count": 7,
   "metadata": {},
   "outputs": [
    {
     "data": {
      "image/png": "[encoded data removed]",
      "text/plain": [
       "<Figure size 432x288 with 1 Axes>"
      ]
     },
     "metadata": {},
     "output_type": "display_data"
    }
   ],
   "source": [
    "plt.hist(l, density = True)\n",
    "plt.title(\"Mean for 100 Results\")\n",
    "plt.xlabel('Result Value')\n",
    "plt.ylabel('Recurrence')\n",
    "\n",
    "plt.show()"
   ]
  },
  {
   "cell_type": "markdown",
   "metadata": {},
   "source": [
    "### Discussion\n",
    "\n",
    "The Avg Value of the 100 results seems to resemble a normal/guassian distribution"
   ]
  },
  {
   "cell_type": "markdown",
   "metadata": {},
   "source": [
    "### Probabilty Density Function"
   ]
  },
  {
   "cell_type": "code",
   "execution_count": 9,
   "metadata": {
    "scrolled": true
   },
   "outputs": [
    {
     "name": "stdout",
     "output_type": "stream",
     "text": [
      "0.0902335420587\n",
      "2.50662827463\n",
      "0.00701574793035\n"
     ]
    },
    {
     "data": {
      "text/plain": [
       "[<matplotlib.lines.Line2D at 0x118629198>]"
      ]
     },
     "execution_count": 9,
     "metadata": {},
     "output_type": "execute_result"
    },
    {
     "data": {
      "image/png": "[encoded data removed]",
      "text/plain": [
       "<Figure size 432x288 with 1 Axes>"
      ]
     },
     "metadata": {},
     "output_type": "display_data"
    }
   ],
   "source": [
    "σ =  np.sqrt(Final_Var_Avg)\n",
    "print(σ)\n",
    "\n",
    "A = np.sqrt(2*np.pi)\n",
    "print(A)\n",
    "\n",
    "μ = Final_Mean_Avg\n",
    "print(μ)\n",
    "\n",
    "x = np.linspace(-.5,.5,100) \n",
    "\n",
    "#x = Variate\n",
    "\n",
    "P = [1/((σ)*A)] *  np.exp((-(x-μ)**2/(2*σ**2))) \n",
    "plt.plot(x,P)"
   ]
  },
  {
   "cell_type": "markdown",
   "metadata": {},
   "source": [
    "### Discussion\n",
    "\n",
    "This Graph overlayed with my distribution is a strong fit, thereby demonstrating that my function and values are correct."
   ]
  },
  {
   "cell_type": "markdown",
   "metadata": {},
   "source": [
    "## -----------------------------------------------------------------------------------"
   ]
  },
  {
   "cell_type": "markdown",
   "metadata": {},
   "source": [
    "# Question 3"
   ]
  },
  {
   "cell_type": "markdown",
   "metadata": {},
   "source": [
    "## Part A"
   ]
  },
  {
   "cell_type": "markdown",
   "metadata": {},
   "source": [
    "### Plot the points with their error bars "
   ]
  },
  {
   "cell_type": "code",
   "execution_count": 49,
   "metadata": {},
   "outputs": [],
   "source": [
    "x = [ 14 , 18 , 22, 26 ]\n",
    "\n",
    "y = [ 2.26 , 3.24 , 3.33 , 3.92 ]\n",
    "\n",
    "x_end = [10, 30]\n",
    "\n",
    "y_end = [2.02, 4.03]\n",
    "\n",
    "sigma1 = .3\n",
    "\n",
    "sigma2 = .1"
   ]
  },
  {
   "cell_type": "code",
   "execution_count": 82,
   "metadata": {},
   "outputs": [
    {
     "data": {
      "image/png": "[encoded data removed]",
      "text/plain": [
       "<Figure size 432x288 with 1 Axes>"
      ]
     },
     "metadata": {},
     "output_type": "display_data"
    }
   ],
   "source": [
    "plt.scatter(x,y)\n",
    "plt.errorbar(x, y, sigma1, fmt='o', color = 'blue')\n",
    "plt.errorbar(x_end, y_end, yerr=sigma2 ,fmt='o', color = 'blue' )\n",
    "plt.title(\"Detector Position\")\n",
    "plt.xlabel('X Position')\n",
    "plt.ylabel('Y Position')\n",
    "\n",
    "\n",
    "#After Calculating a and b - Plot the line of best fit - See Part B\n",
    "a = 0.101617\n",
    "b = 1.022205\n",
    "v = np.linspace(9,31,100)\n",
    "f = (a*v) + b\n",
    "plt.plot(v,f)\n",
    "\n",
    "plt.show()"
   ]
  },
  {
   "cell_type": "markdown",
   "metadata": {},
   "source": [
    "## Part B"
   ]
  },
  {
   "cell_type": "markdown",
   "metadata": {},
   "source": [
    "### Calculate the a and b values of the Chi squared test line of best fit"
   ]
  },
  {
   "cell_type": "code",
   "execution_count": 40,
   "metadata": {},
   "outputs": [],
   "source": [
    "W = (1/(.1**2)) + (1/(.3**2)) + (1/(.3**2)) + (1/(.3**2)) + (1/(.3**2)) + (1/(.1**2))\n",
    "X1 = (10*(1/(.1**2))) + (14*(1/(.3**2))) + (18*(1/(.3**2))) + (22*(1/(.3**2))) + (26*(1/(.3**2))) + (30*(1/(.1**2)))\n",
    "Y1 = (2.02*(1/(.1**2))) + (2.26*(1/(.3**2))) + (3.24*(1/(.3**2))) + (3.33*(1/(.3**2))) + (3.92*(1/(.3**2))) + (4.03*(1/(.1**2)))\n",
    "X2 = ((10**2)*(1/(.1**2))) + ((14**2)*(1/(.3**2))) + ((18**2)*(1/(.3**2))) + ((22**2)*(1/(.3**2))) + ((26**2)*(1/(.3**2))) + ((30**2)*(1/(.1**2)))\n",
    "Y2 = ((2.02**2)*(1/(.1**2))) + ((2.26**2)*(1/(.3**2))) + ((3.24**2)*(1/(.3**2))) + ((3.33**2)*(1/(.3**2))) + ((3.92**2)*(1/(.3**2))) + ((4.03**2)*(1/(.1**2)))\n",
    "P = ((2.02)*10*(1/(.1**2))) + ((2.26)*14*(1/(.3**2))) + ((3.24)*18*(1/(.3**2))) + ((3.33)*22*(1/(.3**2))) + ((3.92)*26*(1/(.3**2))) + ((4.03)*30*(1/(.1**2)))\n"
   ]
  },
  {
   "cell_type": "code",
   "execution_count": 41,
   "metadata": {},
   "outputs": [
    {
     "name": "stdout",
     "output_type": "stream",
     "text": [
      "244.4444444444444\n",
      "4888.888888888889\n",
      "746.6666666666665\n",
      "118666.66666666666\n",
      "2499.468888888889\n",
      "17056.0\n"
     ]
    }
   ],
   "source": [
    "print(W)\n",
    "print(X1)\n",
    "print(Y1)\n",
    "print(X2)\n",
    "print(Y2)\n",
    "print(P)"
   ]
  },
  {
   "cell_type": "code",
   "execution_count": 81,
   "metadata": {},
   "outputs": [
    {
     "name": "stdout",
     "output_type": "stream",
     "text": [
      "a = 0.10161702127659586\n",
      "b = 1.0222050290135372\n",
      "I have used these values in the plot above.\n"
     ]
    }
   ],
   "source": [
    "DeltaInv = 1/((W*X2)-(X1**2))\n",
    "a = DeltaInv*((W*P) -  (X1*Y1))\n",
    "b = DeltaInv*((X2*Y1) - (X1*P))\n",
    "\n",
    "#print(DeltaInv)\n",
    "print(\"a =\", a)\n",
    "print(\"b =\", b)\n",
    "print(\"I have used these values in the plot above.\")"
   ]
  },
  {
   "cell_type": "markdown",
   "metadata": {},
   "source": [
    "## Part C"
   ]
  },
  {
   "cell_type": "markdown",
   "metadata": {},
   "source": [
    "### Preform the Chi Squared Test"
   ]
  },
  {
   "cell_type": "code",
   "execution_count": 73,
   "metadata": {},
   "outputs": [
    {
     "name": "stdout",
     "output_type": "stream",
     "text": [
      "3.102222222222225\n",
      "0.7755555555555562\n"
     ]
    }
   ],
   "source": [
    "#Calculating the Chi squared test\n",
    "y1 = 2.02\n",
    "y2 = 2.26 \n",
    "y3 = 3.24 \n",
    "y4 = 3.33 \n",
    "y5 = 3.92 \n",
    "y6 = 4.03\n",
    "fx1 = .101*10 + 1.02\n",
    "fx2 = .101*14 + 1.02 \n",
    "fx3 = .101*18 + 1.02 \n",
    "fx4 = .101*22 + 1.02 \n",
    "fx5 = .101*26 + 1.02 \n",
    "fx6 = .101*30 + 1.02\n",
    "σ1sq = .01\n",
    "σ2sq = .09\n",
    "σ3sq = .09\n",
    "σ4sq = .09\n",
    "σ5sq = .09\n",
    "σ6sq = .01\n",
    "CHIsq1 = ((y1 - fx1)**2)/(σ1sq)\n",
    "CHIsq2 = ((y2 - fx2)**2)/(σ2sq)\n",
    "CHIsq3 = ((y3 - fx3)**2)/(σ3sq)\n",
    "CHIsq4 = ((y4 - fx4)**2)/(σ4sq)\n",
    "CHIsq5 = ((y5 - fx5)**2)/(σ5sq)\n",
    "CHIsq6 = ((y6 - fx6)**2)/(σ6sq)\n",
    "CHIsq = CHIsq1 + CHIsq2 + CHIsq3 + CHIsq4 + CHIsq5 + CHIsq6\n",
    "print(CHIsq)\n",
    "CHIsqfree = (CHIsq/4)\n",
    "print(CHIsqfree)"
   ]
  },
  {
   "cell_type": "code",
   "execution_count": 77,
   "metadata": {},
   "outputs": [
    {
     "name": "stdout",
     "output_type": "stream",
     "text": [
      "p-value = 0.277\n"
     ]
    }
   ],
   "source": [
    "#Using the Chisqr chart to convert the result to a p-value\n",
    "\n",
    "A = 2.77259 - 4.60517\n",
    "\n",
    "B  = 1/(1.83/.33)\n",
    "\n",
    "C = .25 - .1\n",
    "\n",
    "D = .18*C\n",
    "\n",
    "E = .25 + D\n",
    "print(\"p-value =\", E)"
   ]
  },
  {
   "cell_type": "markdown",
   "metadata": {},
   "source": [
    "## Discussion\n",
    "\n",
    "Therefore p-value is .277 -> This makes Alpha .733\n",
    "\n",
    "Therefore there is 73.3 percent chance that my line does not fit the data\n",
    "\n"
   ]
  },
  {
   "cell_type": "code",
   "execution_count": null,
   "metadata": {},
   "outputs": [],
   "source": []
  }
 ],
 "metadata": {
  "kernelspec": {
   "display_name": "Python 3",
   "language": "python",
   "name": "python3"
  },
  "language_info": {
   "codemirror_mode": {
    "name": "ipython",
    "version": 3
   },
   "file_extension": ".py",
   "mimetype": "text/x-python",
   "name": "python",
   "nbconvert_exporter": "python",
   "pygments_lexer": "ipython3",
   "version": "3.6.5"
  }
 },
 "nbformat": 4,
 "nbformat_minor": 2
}
